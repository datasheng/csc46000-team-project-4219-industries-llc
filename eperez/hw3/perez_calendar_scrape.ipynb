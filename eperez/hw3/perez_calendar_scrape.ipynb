{
  "nbformat": 4,
  "nbformat_minor": 0,
  "metadata": {
    "colab": {
      "provenance": []
    },
    "kernelspec": {
      "name": "python3",
      "display_name": "Python 3"
    },
    "language_info": {
      "name": "python"
    }
  },
  "cells": [
    {
      "cell_type": "markdown",
      "source": [
        "- CSC 460\n",
        "- Evan Perez\n",
        "- 24212505\n",
        "- Homework 3\n",
        "- 10/18/24"
      ],
      "metadata": {
        "id": "Wuz5mvY4rIgG"
      }
    },
    {
      "cell_type": "code",
      "execution_count": 1,
      "metadata": {
        "id": "xT1dmsmYq5Nn"
      },
      "outputs": [],
      "source": [
        "import requests\n",
        "from bs4 import BeautifulSoup\n",
        "import pandas as pd\n",
        "from datetime import datetime"
      ]
    }
  ]
}