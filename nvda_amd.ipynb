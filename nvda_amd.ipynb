{
  "nbformat": 4,
  "nbformat_minor": 0,
  "metadata": {
    "colab": {
      "provenance": []
    },
    "kernelspec": {
      "name": "python3",
      "display_name": "Python 3"
    },
    "language_info": {
      "name": "python"
    }
  },
  "cells": [
    {
      "cell_type": "code",
      "execution_count": null,
      "metadata": {
        "id": "wEN3v0IM797I"
      },
      "outputs": [],
      "source": [
        "# import library\n",
        "import yfinance as yf\n",
        "import pandas as pd\n",
        "import numpy as np\n",
        "import matplotlib.pyplot as plt\n",
        "from sklearn.preprocessing import MinMaxScaler\n",
        "from tensorflow.keras.models import Sequential\n",
        "from tensorflow.keras.layers import Dense, LSTM"
      ]
    },
    {
      "cell_type": "code",
      "source": [
        "# create ticker object and fetch historical market data\n",
        "def ticker_history(comp, dt):\n",
        "    ticker = yf.Ticker(comp)\n",
        "    df = ticker.history(period=dt)\n",
        "    return df"
      ],
      "metadata": {
        "id": "IcvmsNmN8HZr"
      },
      "execution_count": null,
      "outputs": []
    },
    {
      "cell_type": "code",
      "source": [
        "# split data into training and test data\n",
        "def train_test_split(df, tSplit, col):\n",
        "    train = df.loc[:f'{tSplit}', col].values\n",
        "    test = df.loc[f'{tSplit+1}':, col].values\n",
        "    return train, test"
      ],
      "metadata": {
        "id": "bG-kZAdf8KCY"
      },
      "execution_count": null,
      "outputs": []
    },
    {
      "cell_type": "code",
      "source": [
        "# standardize training data\n",
        "def scale_fit_transform(train, scaler):\n",
        "    train = train.reshape(-1, 1)\n",
        "    trainStd = scaler.fit_transform(train)\n",
        "    return trainStd"
      ],
      "metadata": {
        "id": "87PsMjPi8MnQ"
      },
      "execution_count": null,
      "outputs": []
    },
    {
      "cell_type": "code",
      "source": [
        "# convert training data to inputs and outputs\n",
        "def split_time_series(seq, step):\n",
        "    X, y = list(), list()\n",
        "    for i in range(len(seq)):\n",
        "        end = i + step\n",
        "        if end > len(seq) - 1:\n",
        "            break\n",
        "        xSeq, ySeq = seq[i:end], seq[end]\n",
        "        X.append(xSeq)\n",
        "        y.append(ySeq)\n",
        "    return np.array(X), np.array(y)"
      ],
      "metadata": {
        "id": "4Usxi_4M8QKS"
      },
      "execution_count": null,
      "outputs": []
    },
    {
      "cell_type": "code",
      "source": [
        "# create LSTM model\n",
        "def model_lstm(step, feature):\n",
        "    lstm = Sequential()\n",
        "    lstm.add(LSTM(units=125, activation='tanh', input_shape=(step, feature)))\n",
        "    lstm.add(Dense(units=1))\n",
        "    lstm.compile(optimizer='RMSprop', loss='mse')\n",
        "    return lstm"
      ],
      "metadata": {
        "id": "lBjT8i-C8Q9b"
      },
      "execution_count": null,
      "outputs": []
    },
    {
      "cell_type": "code",
      "source": [
        "# transform test data into samples and inverse transform predictions\n",
        "def predict_lstm(df, lstm, test, XTest, yTest, col, step):\n",
        "    dfTot = df.loc[:,col]\n",
        "    dIn = dfTot[len(dfTot) - len(test) - step :].values\n",
        "    dIn = dIn.reshape(-1, 1)\n",
        "    dIn = scaler.transform(dIn)\n",
        "    XTest, yTest = split_time_series(dIn, step)\n",
        "    XTest = XTest.reshape(XTest.shape[0], XTest.shape[1], feature)\n",
        "    yPred = lstm.predict(XTest)\n",
        "    yPred = scaler.inverse_transform(yPred)\n",
        "    return XTest, yTest, yPred"
      ],
      "metadata": {
        "id": "SLDH2t_J8TAM"
      },
      "execution_count": null,
      "outputs": []
    },
    {
      "cell_type": "code",
      "source": [
        "comp = ['NVDA', 'AMD']\n",
        "dt = '5y'\n",
        "col = 'High'\n",
        "tSplit = 2023\n",
        "step = 60\n",
        "feature = 1\n",
        "scaler = MinMaxScaler(feature_range=(0, 1))"
      ],
      "metadata": {
        "id": "OzDfQ9gm8VY7"
      },
      "execution_count": null,
      "outputs": []
    },
    {
      "cell_type": "code",
      "source": [
        "# Create dataframe\n",
        "dfNVDA = ticker_history(comp[0], dt)\n",
        "dfAMD = ticker_history(comp[1], dt)\n",
        "\n",
        "trainNVDA, testNVDA = train_test_split(dfNVDA, tSplit, col)\n",
        "trainAMD, testAMD = train_test_split(dfAMD, tSplit, col)\n",
        "\n",
        "trainStdNVDA = scale_fit_transform(trainNVDA, scaler)\n",
        "trainStdAMD = scale_fit_transform(trainAMD, scaler)\n",
        "\n",
        "XTrainNVDA, yTrainNVDA = split_time_series(trainStdNVDA, step)\n",
        "XTrainAMD, yTrainAMD = split_time_series(trainStdAMD, step)\n",
        "\n",
        "# reshape training data to fit on LSTM model\n",
        "XTrainNVDA = XTrainNVDA.reshape(XTrainNVDA.shape[0], XTrainNVDA.shape[1], feature)\n",
        "XTrainAMD = XTrainAMD.reshape(XTrainAMD.shape[0], XTrainAMD.shape[1], feature)"
      ],
      "metadata": {
        "id": "h7pIVtar8XY1"
      },
      "execution_count": null,
      "outputs": []
    },
    {
      "cell_type": "code",
      "source": [
        "lstmNVDA = model_lstm(step, feature)\n",
        "lstmAMD = model_lstm(step, feature)\n",
        "\n",
        "# train the model\n",
        "lstmNVDA.fit(XTrainNVDA, yTrainNVDA, epochs=10, batch_size=32)\n",
        "lstmAMD.fit(XTrainAMD, yTrainAMD, epochs=10, batch_size=32)"
      ],
      "metadata": {
        "id": "U5-2ksXo8Zn-"
      },
      "execution_count": null,
      "outputs": []
    },
    {
      "cell_type": "code",
      "source": [
        "XTestNVDA, yTestNVDA, yPredNVDA = predict_lstm(dfNVDA, lstmNVDA, testNVDA, XTrainNVDA, yTrainNVDA, col, step)\n",
        "XTestAMD, yTestAMD, yPredAMD = predict_lstm(dfAMD, lstmAMD, testAMD, XTrainAMD, yTrainAMD, col, step)"
      ],
      "metadata": {
        "id": "9H42kz-D80cz"
      },
      "execution_count": null,
      "outputs": []
    }
  ]
}
