{
 "cells": [
  {
   "cell_type": "markdown",
   "metadata": {
    "dc": {
     "key": "3"
    },
    "deletable": false,
    "editable": false,
    "run_control": {
     "frozen": true
    },
    "tags": [
     "context"
    ]
   },
   "source": [
    "## 1. Tools for text processing\n",
    "<p><img style=\"float: right ; margin: 5px 20px 5px 10px; width: 45%\" src=\"https://assets.datacamp.com/production/project_38/img/Moby_Dick_p510_illustration.jpg\"> </p>\n",
    "<p>What are the most frequent words in Herman Melville's novel, Moby Dick, and how often do they occur?</p>\n",
    "<p>In this notebook, we'll scrape the novel <em>Moby Dick</em> from the website <a href=\"https://www.gutenberg.org/\">Project Gutenberg</a> (which contains a large corpus of books) using the Python package <code>requests</code>. Then we'll extract words from this web data using <code>BeautifulSoup</code>. Finally, we'll dive into analyzing the distribution of words using the Natural Language ToolKit (<code>nltk</code>) and <code>Counter</code>.</p>\n",
    "<p>The <em>Data Science pipeline</em> we'll build in this notebook can be used to visualize the word frequency distributions of any novel that you can find on Project Gutenberg. The natural language processing tools used here apply to much of the data that data scientists encounter as a vast proportion of the world's data is unstructured data and includes a great deal of text.</p>\n",
    "<p>Let's start by loading in the three main Python packages we are going to use.</p>"
   ]
  },
  {
   "cell_type": "code",
   "execution_count": 3,
   "metadata": {
    "dc": {
     "key": "3"
    },
    "tags": [
     "sample_code"
    ],
    "trusted": true
   },
   "outputs": [],
   "source": [
    "import requests\n",
    "import nltk\n",
    "from bs4 import BeautifulSoup\n",
    "from collections import Counter\n"
   ]
  },
  {
   "cell_type": "markdown",
   "metadata": {
    "dc": {
     "key": "10"
    },
    "deletable": false,
    "editable": false,
    "run_control": {
     "frozen": true
    },
    "tags": [
     "context"
    ]
   },
   "source": [
    "## 2. Request Moby Dick\n",
    "<p>To analyze Moby Dick, we need to get the contents of Moby Dick from <em>somewhere</em>. Luckily, the text is freely available online at Project Gutenberg as an HTML file: https://www.gutenberg.org/files/2701/2701-h/2701-h.htm .</p>\n",
    "<p><strong>Note</strong> that HTML stands for Hypertext Markup Language and is the standard markup language for the web.</p>\n",
    "<p>To fetch the HTML file with Moby Dick we're going to use the <code>request</code> package to make a <code>GET</code> request for the website, which means we're <em>getting</em> data from it. This is what you're doing through a browser when visiting a webpage, but now we're getting the requested page directly into Python instead. </p>"
   ]
  },
  {
   "cell_type": "code",
   "execution_count": 4,
   "metadata": {
    "dc": {
     "key": "10"
    },
    "tags": [
     "sample_code"
    ],
    "trusted": true
   },
   "outputs": [
    {
     "data": {
      "text/plain": [
       "'<?xml version=\"1.0\" encoding=\"utf-8\"?>\\r\\n\\r\\n<!DOCTYPE html\\r\\n   PUBLIC \"-//W3C//DTD XHTML 1.0 Strict//EN\"\\r\\n   \"http://www.w3.org/TR/xhtml1/DTD/xhtml1-strict.dtd\" >\\r\\n\\r\\n<html xmlns=\"http://www.w3.org/1999/xhtml\" lang=\"en\">\\r\\n  <head>\\r\\n    <title>\\r\\n      Moby Dick; Or the Whale, by Herman Melville\\r\\n    </title>\\r\\n    <style type=\"text/css\" xml:space=\"preserve\">\\r\\n\\r\\n    body { background:#faebd0; color:black; margin-left:15%; margin-right:15%; text-align:justify }\\r\\n    P { text-indent: 1em; margin-top: .25em; margin-bottom: .25em; }\\r\\n    H1,H2,H3,H4,H5,H6 { text-align: center; margin-left: 15%; margin-right: 15%; }\\r\\n    hr  { width: 50%; text-align: center;}\\r\\n    .foot { margin-left: 20%; margin-right: 20%; text-align: justify; text-indent: -3em; font-size: 90%; }\\r\\n    blockquote {font-size: 100%; margin-left: 0%; margin-right: 0%;}\\r\\n    .mynote    {background-color: #DDE; color: #000; padding: .5em; margin-left: 10%; margin-right: 10%; font-family: sans-serif; font-size: 95%;}\\r\\n    .toc       { margin-left: 10%; margin-bottom: .75em;}\\r\\n    .toc2      { margin-left: 20%;}\\r\\n    div.fig    { display:block; margin:0 auto; text-align:center; }\\r\\n    div.middle { margin-left: 20%; margin-right: 20%; text-align: justify; }\\r\\n    .figleft   {float: left; margin-left: 0%; margin-right: 1%;}\\r\\n    .figright  {float: right; margin-right: 0%; margin-left: 1%;}\\r\\n    .pagenum   {display:inline; font-size: 70%; font-style:normal;\\r\\n               margin: 0; padding: 0; position: absolute; right: 1%;\\r\\n               text-align: right;}\\r\\n    pre        { font-family: times new roman; font-size: 100%; margin-left: 10%;}\\r\\n\\r\\n    table      {margin-left: 10%;}\\r\\n\\r\\na:link {color:blue;\\r\\n\\t\\ttext-decoration:none}\\r\\nlink {color:blue;\\r\\n\\t\\ttext-decoration:none}\\r\\na:visited {color:blue;\\r\\n\\t\\ttext-decoration:none}\\r\\na:hover {color:red}\\r\\n\\r\\n</style>\\r\\n  </head>\\r\\n  <body>\\r\\n<pre xml:space=\"preserve\">\\r\\n\\r\\nThe Project Gutenberg EBook of Moby Dick; or The Whale, by Herman Melville\\r\\n\\r\\nThis eBook is for the use of anyone anywh'"
      ]
     },
     "execution_count": 4,
     "metadata": {},
     "output_type": "execute_result"
    }
   ],
   "source": [
    "r = requests.get(\"https://s3.amazonaws.com/assets.datacamp.com/production/project_147/datasets/2701-h.htm\")\n",
    "r.encoding = 'utf-8'\n",
    "\n",
    "html = r.text\n",
    "\n",
    "html[:2000]"
   ]
  },
  {
   "cell_type": "markdown",
   "metadata": {
    "dc": {
     "key": "17"
    },
    "deletable": false,
    "editable": false,
    "run_control": {
     "frozen": true
    },
    "tags": [
     "context"
    ]
   },
   "source": [
    "## 3. Get the text from the HTML\n",
    "<p>This HTML is not quite what we want. However, it does <em>contain</em> what we want: the text of <em>Moby Dick</em>. What we need to do now is <em>wrangle</em> this HTML to extract the text of the novel. For this we'll use the package <code>BeautifulSoup</code>.</p>\n",
    "<p>Firstly, a word on the name of the package: Beautiful Soup? In web development, the term \"tag soup\" refers to structurally or syntactically incorrect HTML code written for a web page. What Beautiful Soup does best is to make tag soup beautiful again and to extract information from it with ease! In fact, the main object created and queried when using this package is called <code>BeautifulSoup</code>.</p>"
   ]
  },
  {
   "cell_type": "code",
   "execution_count": 5,
   "metadata": {
    "dc": {
     "key": "17"
    },
    "tags": [
     "sample_code"
    ],
    "trusted": true
   },
   "outputs": [
    {
     "data": {
      "text/plain": [
       "'cally knocking\\r\\n      people’s hats off—then, I account it high time to get to sea as soon\\r\\n      as I can. This is my substitute for pistol and ball. With a philosophical\\r\\n      flourish Cato throws himself upon his sword; I quietly take to the ship.\\r\\n      There is nothing surprising in this. If they but knew it, almost all men\\r\\n      in their degree, some time or other, cherish very nearly the same feelings\\r\\n      towards the ocean with me.\\r\\n    \\n\\r\\n      There now is your insular city of the Manhattoes, belted round by wharves\\r\\n      as Indian isles by coral reefs—commerce surrounds it with her surf.\\r\\n      Right and left, the streets take you waterward. Its extreme downtown is\\r\\n      the battery, where that noble mole is washed by waves, and cooled by\\r\\n      breezes, which a few hours previous were out of sight of land. Look at the\\r\\n      crowds of water-gazers there.\\r\\n    \\n\\r\\n      Circumambulate the city of a dreamy Sabbath afternoon. Go from Corlears\\r\\n      Hook to Coenties Slip, and from thence, by Whitehall, northward. What do\\r\\n      you see?—Posted like silent sentinels all around the town, stand\\r\\n      thousands upon thousands of mortal men fixed in ocean reveries. Some\\r\\n      leaning against the spiles; some seated upon the pier-heads; some looking\\r\\n      over the bulwarks of ships from China; some high aloft in the rigging, as\\r\\n      if striving to get a still better seaward peep. But these are all\\r\\n      landsmen; of week days pent up in lath and plaster—tied to counters,\\r\\n      nailed to benches, clinched to desks. How then is this? Are the green\\r\\n      fields gone? What do they here?\\r\\n    \\n\\r\\n      But look! here come more crowds, pacing straight for the water, and\\r\\n      seemingly bound for a dive. Strange! Nothing will content them but the\\r\\n      extremest limit of the land; loitering under the shady lee of yonder\\r\\n      warehouses will not suffice. No. They must get just as nigh the water as\\r\\n      they possibly can without falling in. And there the'"
      ]
     },
     "execution_count": 5,
     "metadata": {},
     "output_type": "execute_result"
    }
   ],
   "source": [
    "soup = BeautifulSoup(html, \"html.parser\")\n",
    "\n",
    "body = soup.find(\"body\")  \n",
    "text = body.get_text()  \n",
    "\n",
    "text = text.strip()\n",
    "\n",
    "text[32000:34000]"
   ]
  },
  {
   "cell_type": "markdown",
   "metadata": {
    "dc": {
     "key": "24"
    },
    "deletable": false,
    "editable": false,
    "run_control": {
     "frozen": true
    },
    "tags": [
     "context"
    ]
   },
   "source": [
    "## 4. Extract the words\n",
    "<p>We now have the text of the novel! There is some unwanted stuff at the start and some unwanted stuff at the end. We could remove it, but this content is so much smaller in amount than the text of Moby Dick that, to a first approximation, it is okay to leave it in.</p>\n",
    "<p>Now that we have the text of interest, it's time to count how many times each word appears, and for this we'll use <code>nltk</code> – the Natural Language Toolkit. We'll start by tokenizing the text, that is, remove everything that isn't a word (whitespace, punctuation, etc.) and then split the text into a list of words.</p>"
   ]
  },
  {
   "cell_type": "code",
   "execution_count": 6,
   "metadata": {
    "dc": {
     "key": "24"
    },
    "tags": [
     "sample_code"
    ],
    "trusted": true
   },
   "outputs": [
    {
     "name": "stdout",
     "output_type": "stream",
     "text": [
      "First 8 tokens: ['The', 'Project', 'Gutenberg', 'EBook', 'of', 'Moby', 'Dick', 'or']\n",
      "10 most common words: [('the', 13975), ('of', 6699), ('and', 6144), ('a', 4649), ('to', 4635), ('in', 4000), ('that', 3012), ('his', 2474), ('it', 2224), ('I', 2123)]\n"
     ]
    }
   ],
   "source": [
    "from nltk.tokenize import RegexpTokenizer\n",
    "from collections import Counter\n",
    "\n",
    "tokenizer = RegexpTokenizer(r'\\w+')\n",
    "\n",
    "tokens = tokenizer.tokenize(text)\n",
    "\n",
    "print(\"First 8 tokens:\", tokens[:8])\n",
    "\n",
    "word_counts = Counter(tokens)\n",
    "\n",
    "print(\"10 most common words:\", word_counts.most_common(10))\n"
   ]
  },
  {
   "cell_type": "markdown",
   "metadata": {
    "dc": {
     "key": "31"
    },
    "deletable": false,
    "editable": false,
    "run_control": {
     "frozen": true
    },
    "tags": [
     "context"
    ]
   },
   "source": [
    "## 5. Make the words lowercase\n",
    "<p>OK! We're nearly there. Note that in the above 'Or' has a capital 'O' and that in other places it may not, but both 'Or' and 'or' should be counted as the same word. For this reason, we should build a list of all words in <em>Moby Dick</em> in which all capital letters have been made lower case.</p>"
   ]
  },
  {
   "cell_type": "code",
   "execution_count": 7,
   "metadata": {
    "dc": {
     "key": "31"
    },
    "tags": [
     "sample_code"
    ],
    "trusted": true
   },
   "outputs": [
    {
     "name": "stdout",
     "output_type": "stream",
     "text": [
      "First 8 lowercase words: ['the', 'project', 'gutenberg', 'ebook', 'of', 'moby', 'dick', 'or']\n"
     ]
    }
   ],
   "source": [
    "\n",
    "words = [token.lower() for token in tokens]\n",
    "\n",
    "print(\"First 8 lowercase words:\", words[:8])\n"
   ]
  },
  {
   "cell_type": "markdown",
   "metadata": {
    "dc": {
     "key": "38"
    },
    "deletable": false,
    "editable": false,
    "run_control": {
     "frozen": true
    },
    "tags": [
     "context"
    ]
   },
   "source": [
    "## 6. Load in stop words\n",
    "<p>It is common practice to remove words that appear a lot in the English language such as 'the', 'of' and 'a' because they're not so interesting. Such words are known as <em>stop words</em>. The package <code>nltk</code> includes a good list of stop words in English that we can use.</p>"
   ]
  },
  {
   "cell_type": "code",
   "execution_count": 11,
   "metadata": {
    "dc": {
     "key": "38"
    },
    "tags": [
     "sample_code"
    ],
    "trusted": true
   },
   "outputs": [
    {
     "name": "stderr",
     "output_type": "stream",
     "text": [
      "[nltk_data] Downloading package stopwords to\n",
      "[nltk_data]     /Users/fahadfaruqi/nltk_data...\n",
      "[nltk_data]   Unzipping corpora/stopwords.zip.\n"
     ]
    },
    {
     "data": {
      "text/plain": [
       "['i', 'me', 'my', 'myself', 'we', 'our', 'ours', 'ourselves']"
      ]
     },
     "execution_count": 11,
     "metadata": {},
     "output_type": "execute_result"
    }
   ],
   "source": [
    "nltk.download(\"stopwords\")\n",
    "\n",
    "sw = nltk.corpus.stopwords.words(\"english\")\n",
    "\n",
    "sw[:8]"
   ]
  },
  {
   "cell_type": "markdown",
   "metadata": {
    "dc": {
     "key": "45"
    },
    "deletable": false,
    "editable": false,
    "run_control": {
     "frozen": true
    },
    "tags": [
     "context"
    ]
   },
   "source": [
    "## 7. Remove stop words in Moby Dick\n",
    "<p>We now want to create a new list with all <code>words</code> in Moby Dick, except those that are stop words (that is, those words listed in <code>sw</code>).</p>"
   ]
  },
  {
   "cell_type": "code",
   "execution_count": 12,
   "metadata": {
    "dc": {
     "key": "45"
    },
    "tags": [
     "sample_code"
    ],
    "trusted": true
   },
   "outputs": [
    {
     "data": {
      "text/plain": [
       "['project', 'gutenberg', 'ebook', 'moby', 'dick']"
      ]
     },
     "execution_count": 12,
     "metadata": {},
     "output_type": "execute_result"
    }
   ],
   "source": [
    "\n",
    "words_ns = [word for word in words if word not in sw]\n",
    "\n",
    "words_ns[:5]"
   ]
  },
  {
   "cell_type": "markdown",
   "metadata": {
    "dc": {
     "key": "52"
    },
    "deletable": false,
    "editable": false,
    "run_control": {
     "frozen": true
    },
    "tags": [
     "context"
    ]
   },
   "source": [
    "## 8. We have the answer\n",
    "<p>Our original question was:</p>\n",
    "<blockquote>\n",
    "  <p>What are the most frequent words in Herman Melville's novel Moby Dick and how often do they occur?</p>\n",
    "</blockquote>\n",
    "<p>We are now ready to answer that! Let's answer this question using the <code>Counter</code> class we imported earlier.</p>"
   ]
  },
  {
   "cell_type": "code",
   "execution_count": 13,
   "metadata": {
    "dc": {
     "key": "52"
    },
    "tags": [
     "sample_code"
    ],
    "trusted": true
   },
   "outputs": [
    {
     "name": "stdout",
     "output_type": "stream",
     "text": [
      "Top ten most frequent words and their counts:\n",
      "whale: 1245\n",
      "one: 925\n",
      "like: 647\n",
      "upon: 568\n",
      "man: 527\n",
      "ship: 519\n",
      "ahab: 517\n",
      "ye: 473\n",
      "sea: 455\n",
      "old: 452\n"
     ]
    }
   ],
   "source": [
    "from collections import Counter\n",
    "\n",
    "count = Counter(words_ns)\n",
    "\n",
    "top_ten = count.most_common(10)\n",
    "\n",
    "print(\"Top ten most frequent words and their counts:\")\n",
    "for word, freq in top_ten:\n",
    "    print(f\"{word}: {freq}\")\n"
   ]
  },
  {
   "cell_type": "markdown",
   "metadata": {
    "dc": {
     "key": "59"
    },
    "deletable": false,
    "editable": false,
    "run_control": {
     "frozen": true
    },
    "tags": [
     "context"
    ]
   },
   "source": [
    "## 9. The most common word\n",
    "<p>Nice! Using our variable <code>top_ten</code>, we now have an answer to our original question.</p>\n",
    "<p>The natural language processing skills we used in this notebook are also applicable to much of the data that Data Scientists encounter as the vast proportion of the world's data is unstructured data and includes a great deal of text. </p>\n",
    "<p>So, what word turned out to (<em>not surprisingly</em>) be the most common word in Moby Dick?</p>"
   ]
  },
  {
   "cell_type": "code",
   "execution_count": 15,
   "metadata": {
    "dc": {
     "key": "59"
    },
    "tags": [
     "sample_code"
    ],
    "trusted": true
   },
   "outputs": [
    {
     "data": {
      "text/plain": [
       "'whale'"
      ]
     },
     "execution_count": 15,
     "metadata": {},
     "output_type": "execute_result"
    }
   ],
   "source": [
    "most_common_word = top_ten[0][0]\n",
    "\n",
    "most_common_word"
   ]
  },
  {
   "cell_type": "code",
   "execution_count": null,
   "metadata": {},
   "outputs": [],
   "source": []
  }
 ],
 "metadata": {
  "kernelspec": {
   "display_name": ".venv",
   "language": "python",
   "name": "python3"
  },
  "language_info": {
   "codemirror_mode": {
    "name": "ipython",
    "version": 3
   },
   "file_extension": ".py",
   "mimetype": "text/x-python",
   "name": "python",
   "nbconvert_exporter": "python",
   "pygments_lexer": "ipython3",
   "version": "3.13.0"
  }
 },
 "nbformat": 4,
 "nbformat_minor": 2
}
