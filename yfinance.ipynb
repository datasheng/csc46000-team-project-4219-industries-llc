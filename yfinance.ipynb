{
  "nbformat": 4,
  "nbformat_minor": 0,
  "metadata": {
    "colab": {
      "provenance": []
    },
    "kernelspec": {
      "name": "python3",
      "display_name": "Python 3"
    },
    "language_info": {
      "name": "python"
    }
  },
  "cells": [
    {
      "cell_type": "code",
      "execution_count": null,
      "metadata": {
        "id": "gRYhLd-HBUEA"
      },
      "outputs": [],
      "source": [
        "# import library\n",
        "import yfinance as yf"
      ]
    },
    {
      "cell_type": "code",
      "source": [
        "# Create Ticker object\n",
        "tickerNVDA = yf.Ticker('NVDA')\n",
        "tickerAMD = yf.Ticker('AMD')\n",
        "\n",
        "# Fetch historical market data\n",
        "dfNVDA = tickerNVDA.history(period='5y')\n",
        "dfAMD = tickerAMD.history(period='5y')"
      ],
      "metadata": {
        "id": "bIMDPDvpB78r"
      },
      "execution_count": null,
      "outputs": []
    }
  ]
}
